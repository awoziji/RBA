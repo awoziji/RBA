{
 "cells": [
  {
   "cell_type": "code",
   "execution_count": 1,
   "metadata": {},
   "outputs": [
    {
     "name": "stdout",
     "output_type": "stream",
     "text": [
      "-67Ra6AJMcZ-kNbg6_YwLylMSYqadBS-Sxptx4wlylM9-KFGNVbf0mboOX-QcwD3TcLiq2Bf1h4weBtgy0A2oE_xtmmytRRD2sqKcq2SEzubM8Ns3qATQBjLukKTWXYx\n",
      "{'id': 'guerrero-market-and-deli-san-francisco', 'name': 'Guerrero Market & Deli', 'image_url': 'https://s3-media3.fl.yelpcdn.com/bphoto/26zh9s2B5brVGf-zPoQOhQ/o.jpg', 'is_closed': False, 'url': 'https://www.yelp.com/biz/guerrero-market-and-deli-san-francisco?adjust_creative=KPh0r2NApri2TY-elJu_DA&utm_campaign=yelp_api_v3&utm_medium=api_v3_business_search&utm_source=KPh0r2NApri2TY-elJu_DA', 'review_count': 91, 'categories': [{'alias': 'grocery', 'title': 'Grocery'}, {'alias': 'delis', 'title': 'Delis'}, {'alias': 'sandwiches', 'title': 'Sandwiches'}], 'rating': 4.5, 'coordinates': {'latitude': 37.7598495483398, 'longitude': -122.423332214355}, 'transactions': [], 'price': '$', 'location': {'address1': '701 Guerrero St', 'address2': '', 'address3': '', 'city': 'San Francisco', 'zip_code': '94110', 'country': 'US', 'state': 'CA', 'display_address': ['701 Guerrero St', 'San Francisco, CA 94110']}, 'phone': '+14156472530', 'display_phone': '(415) 647-2530', 'distance': 567.405567069}\n"
     ]
    }
   ],
   "source": [
    "import requests as req\n",
    "\n",
    "from requests_oauthlib import OAuth2Session\n",
    "\n",
    "from oauthlib.oauth2 import BackendApplicationClient\n",
    "client_id = 'KPh0r2NApri2TY-elJu_DA'\n",
    "client_secret = '7gy8jEHAZFhif90teGhMNZYkAylFVQtLLE5Qclu544NhALrJNGlTJOJZYHWx5tW1'\n",
    "\n",
    "client = BackendApplicationClient(client_id=client_id)\n",
    "oauth = OAuth2Session(client=client)\n",
    "token = oauth.fetch_token(token_url='https://api.yelp.com/oauth2/token', client_id=client_id,\n",
    "        client_secret=client_secret)\n",
    "\t\t\n",
    "print(token['access_token'])\n",
    "\n",
    "tok = token['access_token']\n",
    "\n",
    "url_params = {\n",
    "              'term': 'deli', \n",
    "              'location': 'Mission District, San Francisco',\n",
    "              'limit': 50\n",
    "             }\n",
    "url = \"https://api.yelp.com/v3/businesses/search\"\n",
    "headers = {\n",
    "    'Authorization': 'Bearer %s' % tok,\n",
    "}\n",
    "busn = req.get(url, headers=headers, params=url_params)\n",
    "\n",
    "import json\n",
    "# print(busn.json())\n",
    "dels = busn.json()\n",
    "\n",
    "import numpy as np\n",
    "#First three API calls.\n",
    "#1 Get API data on review scores. Pandas/Numpy on average review score by restaurant type.\n",
    "#2 API Call on Reviews that would get average review score and review count by type in San Francisco. \n",
    "#3 API Call to get Reviews. Pandas/Dataframe that has sum of reviews by the restaurant type. \n",
    "\n",
    "for x in dels['businesses']:\n",
    "    print(x)\n",
    "    break"
   ]
  },
  {
   "cell_type": "code",
   "execution_count": 12,
   "metadata": {},
   "outputs": [
    {
     "name": "stdout",
     "output_type": "stream",
     "text": [
      "{'Chinese': 492, 'Mexican': 500, 'French': 429, 'Japanese': 500, 'Mediterranean': 389, 'American': 500, 'Italian': 500, 'Korean': 488, 'Thai': 487, 'Indian': 392}\n",
      "{'Chinese': 1797.5, 'Mexican': 1893.0, 'French': 1722.0, 'Japanese': 1961.0, 'Mediterranean': 1520.5, 'American': 2023.0, 'Italian': 2004.5, 'Korean': 1841.0, 'Thai': 1794.5, 'Indian': 1475.5}\n",
      "{'Chinese': 244488, 'Mexican': 286299, 'French': 354230, 'Japanese': 237149, 'Mediterranean': 167133, 'American': 369758, 'Italian': 358596, 'Korean': 234970, 'Thai': 252265, 'Indian': 176663}\n"
     ]
    }
   ],
   "source": [
    "Districts = [\"Castro District\", \"Chinatown\", \"Ternderloin\", \"Inner Richmond\", \"Inner Sunset\", \"Alamo Square\", \"Russian Hill\", \"Mission District\", \"NorthBeach/Telegraph\", \"SoMa\"]\n",
    "types = [\"Chinese\", \"Mexican\", \"French\", \"Japanese\", \"Mediterranean\", \"American\", \"Italian\", \"Korean\", \"Thai\", \"Indian\"]\n",
    "countreviewsbytype = {}\n",
    "avgreviewsbytype = {}\n",
    "totalreviewsbytype = {}\n",
    "\n",
    "for x in Districts:\n",
    "    for y in types:\n",
    "        \n",
    "        url_params = {\n",
    "            'term': y,\n",
    "            'location': x,\n",
    "            'limit': 50\n",
    "        }\n",
    "        \n",
    "        headers = {\n",
    "            'Authorization': 'Bearer %s' % tok\n",
    "        }\n",
    "        \n",
    "        reviewcall = req.get(url, headers=headers, params=url_params)\n",
    "        try:\n",
    "            reviews = reviewcall.json()\n",
    "        except:\n",
    "            print(reviewcall.json())\n",
    "        \n",
    "        for rev in reviews['businesses']:\n",
    "            try:\n",
    "                if y not in avgreviewsbytype:\n",
    "                    avgreviewsbytype[y] = rev['rating']\n",
    "                    countreviewsbytype[y] = 1\n",
    "                    totalreviewsbytype[y] = rev['review_count']\n",
    "                else:\n",
    "                    avgreviewsbytype[y] += rev['rating']\n",
    "                    countreviewsbytype[y] += 1\n",
    "                    totalreviewsbytype[y] += rev['review_count']\n",
    "            except:\n",
    "                print(rev)\n",
    "\n",
    "print(countreviewsbytype)\n",
    "print(avgreviewsbytype)\n",
    "print(totalreviewsbytype)"
   ]
  },
  {
   "cell_type": "code",
   "execution_count": 27,
   "metadata": {},
   "outputs": [
    {
     "name": "stdout",
     "output_type": "stream",
     "text": [
      "[3.65, 3.79, 4.01, 3.92, 3.91, 4.05, 4.01, 3.77, 3.68, 3.76]\n",
      "[893225.98, 1083928.01, 1421874.27, 930098.38, 653279.5, 1496040.87, 1437611.36, 886433.95, 929547.32, 664964.94]\n",
      "[244488, 286299, 354230, 237149, 167133, 369758, 358596, 234970, 252265, 176663]\n"
     ]
    }
   ],
   "source": [
    "avgscores =  []\n",
    "comboscores = []\n",
    "reviewtotal = []\n",
    "\n",
    "for x in countreviewsbytype:\n",
    "    count = countreviewsbytype[x]\n",
    "    avg = avgreviewsbytype[x]\n",
    "    total = totalreviewsbytype[x]\n",
    "    avgscores.append(round((avg/count),2))\n",
    "    comboscores.append(round(((avg/count)*total),2))\n",
    "    reviewtotal.append(total)\n",
    "print(avgscores)\n",
    "print(comboscores)\n",
    "print(reviewtotal)"
   ]
  },
  {
   "cell_type": "code",
   "execution_count": 2,
   "metadata": {
    "collapsed": true
   },
   "outputs": [],
   "source": [
    "import pandas as pd"
   ]
  },
  {
   "cell_type": "code",
   "execution_count": 29,
   "metadata": {
    "collapsed": true
   },
   "outputs": [],
   "source": [
    "avgscoreframe = pd.DataFrame({\n",
    "    'Food Types': types,\n",
    "    'Average Scores': avgscores,\n",
    "})"
   ]
  },
  {
   "cell_type": "code",
   "execution_count": 33,
   "metadata": {
    "collapsed": true
   },
   "outputs": [],
   "source": [
    "exportframe = avgscoreframe[['Food Types', 'Average Scores']]"
   ]
  },
  {
   "cell_type": "code",
   "execution_count": 34,
   "metadata": {
    "collapsed": true
   },
   "outputs": [],
   "source": [
    "exportframe.to_csv(\"Yelp/avgscores.csv\")"
   ]
  },
  {
   "cell_type": "code",
   "execution_count": 35,
   "metadata": {
    "collapsed": true
   },
   "outputs": [],
   "source": [
    "comboscoreframe = pd.DataFrame({\n",
    "    'Food Types': types,\n",
    "    'Combo Scores': comboscores,\n",
    "})"
   ]
  },
  {
   "cell_type": "code",
   "execution_count": 36,
   "metadata": {
    "collapsed": true
   },
   "outputs": [],
   "source": [
    "exportframe = comboscoreframe[['Food Types', 'Combo Scores']]\n",
    "exportframe.to_csv(\"Yelp/comboscores.csv\")"
   ]
  },
  {
   "cell_type": "code",
   "execution_count": 37,
   "metadata": {
    "collapsed": true
   },
   "outputs": [],
   "source": [
    "reviewtotalsframe = pd.DataFrame({\n",
    "    'Food Types': types,\n",
    "    'Total Reviews': reviewtotal,\n",
    "})"
   ]
  },
  {
   "cell_type": "code",
   "execution_count": 38,
   "metadata": {
    "collapsed": true
   },
   "outputs": [],
   "source": [
    "exportframe = reviewtotalsframe[['Food Types', 'Total Reviews']]\n",
    "exportframe.to_csv(\"Yelp/totalreviews.csv\")"
   ]
  },
  {
   "cell_type": "code",
   "execution_count": 3,
   "metadata": {
    "collapsed": true
   },
   "outputs": [],
   "source": [
    "#Need to get total sum of reviews by neighborhood\n",
    "#Need to create a dataframe for each neighborhood that captures the review sum by type"
   ]
  },
  {
   "cell_type": "code",
   "execution_count": 4,
   "metadata": {},
   "outputs": [
    {
     "name": "stdout",
     "output_type": "stream",
     "text": [
      "{'Castro District': [18582, 34503, 34639, 16590, 18276, 32310, 33737, 20358, 20786, 20450], 'Chinatown': [29278, 18554, 20212, 14841, 16339, 18599, 23177, 17226, 18811, 11840], 'Ternderloin': [29669, 22165, 48568, 25849, 21692, 40787, 42596, 25858, 26644, 24724], 'Inner Richmond': [20820, 27635, 55636, 23806, 24170, 32864, 32672, 27413, 32076, 25616], 'Inner Sunset': [22587, 31188, 12027, 27423, 6677, 38136, 23030, 33317, 30880, 5131], 'Alamo Square': [16724, 39214, 25367, 22936, 3577, 43004, 36433, 23649, 14459, 5024], 'Russian Hill': [26879, 24818, 36751, 28016, 19487, 40003, 46842, 23642, 28297, 24529], 'Mission District': [19585, 38955, 55325, 19867, 26614, 40350, 36031, 17727, 25290, 27840], 'NorthBeach/Telegraph': [29592, 28352, 12820, 27368, 8283, 46760, 45010, 24142, 27475, 4816], 'SoMa': [30437, 19968, 52402, 30596, 22189, 34229, 39708, 22092, 27691, 26653]}\n"
     ]
    }
   ],
   "source": [
    "Districts = [\"Castro District\", \"Chinatown\", \"Ternderloin\", \"Inner Richmond\", \"Inner Sunset\", \"Alamo Square\", \"Russian Hill\", \"Mission District\", \"NorthBeach/Telegraph\", \"SoMa\"]\n",
    "types = [\"Chinese\", \"Mexican\", \"French\", \"Japanese\", \"Mediterranean\", \"American\", \"Italian\", \"Korean\", \"Thai\", \"Indian\"]\n",
    "neighbrevs = {}\n",
    "\n",
    "for x in Districts:\n",
    "    sumreviews = []\n",
    "    for y in types:\n",
    "        \n",
    "        url_params = {\n",
    "            'term': y,\n",
    "            'location': x,\n",
    "            'limit': 50\n",
    "        }\n",
    "        \n",
    "        headers = {\n",
    "            'Authorization': 'Bearer %s' % tok\n",
    "        }\n",
    "        \n",
    "        reviewcall = req.get(url, headers=headers, params=url_params)\n",
    "        try:\n",
    "            reviews = reviewcall.json()\n",
    "        except:\n",
    "            print(reviewcall.json())\n",
    "        \n",
    "        revcount = 0\n",
    "        \n",
    "        for rev in reviews['businesses']:\n",
    "            revcount += rev['review_count']\n",
    "        \n",
    "        sumreviews.append(revcount)\n",
    "    \n",
    "    neighbrevs[x] = sumreviews\n",
    "\n",
    "print(neighbrevs)"
   ]
  },
  {
   "cell_type": "code",
   "execution_count": 7,
   "metadata": {},
   "outputs": [],
   "source": [
    "Castro = pd.DataFrame({\n",
    "    'Food Types': types,\n",
    "    'Total Reviews': neighbrevs['Castro District']\n",
    "})\n",
    "\n",
    "Chinatown = pd.DataFrame({\n",
    "    'Food Types': types,\n",
    "    'Total Reviews': neighbrevs['Chinatown']\n",
    "})\n",
    "\n",
    "Tenderloin = pd.DataFrame({\n",
    "    'Food Types': types,\n",
    "    'Total Reviews': neighbrevs['Ternderloin']\n",
    "})\n",
    "\n",
    "Inner_Richmond = pd.DataFrame({\n",
    "    'Food Types': types,\n",
    "    'Total Reviews': neighbrevs['Inner Richmond']\n",
    "})\n",
    "\n",
    "Inner_Sunset = pd.DataFrame({\n",
    "    'Food Types': types,\n",
    "    'Total Reviews': neighbrevs['Inner Sunset']\n",
    "})\n",
    "\n",
    "Alamo_Square = pd.DataFrame({\n",
    "    'Food Types': types,\n",
    "    'Total Reviews': neighbrevs['Alamo Square']\n",
    "})\n",
    "\n",
    "Russian_Hill = pd.DataFrame({\n",
    "    'Food Types': types,\n",
    "    'Total Reviews': neighbrevs['Russian Hill']\n",
    "})\n",
    "\n",
    "Mission_District = pd.DataFrame({\n",
    "    'Food Types': types,\n",
    "    'Total Reviews': neighbrevs['Mission District']\n",
    "})\n",
    "\n",
    "NorthBeach = pd.DataFrame({\n",
    "    'Food Types': types,\n",
    "    'Total Reviews': neighbrevs['NorthBeach/Telegraph']\n",
    "})\n",
    "\n",
    "SoMa = pd.DataFrame({\n",
    "    'Food Types': types,\n",
    "    'Total Reviews': neighbrevs['SoMa']\n",
    "})"
   ]
  },
  {
   "cell_type": "code",
   "execution_count": 10,
   "metadata": {},
   "outputs": [],
   "source": [
    "Castro.to_csv(\"Yelp/Castro.csv\")\n",
    "Chinatown.to_csv(\"Yelp/Chinatown.csv\")\n",
    "Tenderloin.to_csv(\"Yelp/Tenderloin.csv\")\n",
    "Inner_Richmond.to_csv(\"Yelp/InnerRichmond.csv\")\n",
    "Inner_Sunset.to_csv(\"Yelp/InnerSunset.csv\")\n",
    "Alamo_Square.to_csv(\"Yelp/AlamoSquare.csv\")\n",
    "Russian_Hill.to_csv(\"Yelp/RussianHill.csv\")\n",
    "Mission_District.to_csv(\"Yelp/MissionDistrict.csv\")\n",
    "NorthBeach.to_csv(\"Yelp/NorthBeach.csv\")\n",
    "SoMa.to_csv(\"Yelp/Soma.csv\")"
   ]
  },
  {
   "cell_type": "code",
   "execution_count": null,
   "metadata": {
    "collapsed": true
   },
   "outputs": [],
   "source": []
  }
 ],
 "metadata": {
  "kernelspec": {
   "display_name": "Python 3",
   "language": "python",
   "name": "python3"
  },
  "language_info": {
   "codemirror_mode": {
    "name": "ipython",
    "version": 3
   },
   "file_extension": ".py",
   "mimetype": "text/x-python",
   "name": "python",
   "nbconvert_exporter": "python",
   "pygments_lexer": "ipython3",
   "version": "3.6.1"
  }
 },
 "nbformat": 4,
 "nbformat_minor": 2
}
