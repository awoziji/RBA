{
 "cells": [
  {
   "cell_type": "code",
   "execution_count": 226,
   "metadata": {},
   "outputs": [
    {
     "name": "stdout",
     "output_type": "stream",
     "text": [
      "Requirement already satisfied: oauthlib in c:\\users\\zoshihyang\\anaconda3\\lib\\site-packages\n",
      "Requirement already satisfied: requests_oauthlib in c:\\users\\zoshihyang\\anaconda3\\lib\\site-packages\n",
      "Requirement already satisfied: oauthlib>=0.6.2 in c:\\users\\zoshihyang\\anaconda3\\lib\\site-packages (from requests_oauthlib)\n",
      "Requirement already satisfied: requests>=2.0.0 in c:\\users\\zoshihyang\\anaconda3\\lib\\site-packages (from requests_oauthlib)\n"
     ]
    }
   ],
   "source": [
    "import requests as req\n",
    "!pip install oauthlib\n",
    "!pip install requests_oauthlib\n",
    "from oauthlib.oauth2 import MobileApplicationClient\n",
    "from requests_oauthlib import OAuth2Session\n",
    "from oauthlib.oauth2 import BackendApplicationClient\n",
    "import json\n",
    "import matplotlib.pyplot as plt\n",
    "import numpy as np\n",
    "import pandas as pd\n",
    "url = \"https://api.yelp.com/v3/businesses/search\""
   ]
  },
  {
   "cell_type": "code",
   "execution_count": 227,
   "metadata": {},
   "outputs": [
    {
     "name": "stdout",
     "output_type": "stream",
     "text": [
      "hello\n"
     ]
    }
   ],
   "source": [
    "client_id = 'G5xpoUQV8dUq8bL2KQZGnQ'\n",
    "client_secret = 'mHLQsY6gyBiuT6YviJYzFazV7i4WGQR28PLhWzh21AmYbgQJV0lfyfVhkrMIONi5'"
   ]
  },
  {
   "cell_type": "code",
   "execution_count": 228,
   "metadata": {},
   "outputs": [
    {
     "name": "stdout",
     "output_type": "stream",
     "text": [
      "ACCESS TOKEN: 7pJig_NPk4rUhim9wWkULRt0-7RFCdJmPJL7W8PmfUlQHOZMyH3UFxInvm7l4u2-KeT7eChQ1D-6GiN-GJnnI4cszIxIXV0GDNwMUmYnkyWkZzpAQ5pMBFDqbr6hWXYx\n"
     ]
    }
   ],
   "source": [
    "client = BackendApplicationClient(client_id=client_id)\n",
    "oauth = OAuth2Session(client=client)\n",
    "token = oauth.fetch_token(token_url='https://api.yelp.com/oauth2/token', client_id=client_id,\n",
    "        client_secret=client_secret)\n",
    "print(\"ACCESS TOKEN: \" + token['access_token'])\n",
    "tok = token['access_token']\n",
    "# url_params = {\n",
    "#               'term': 'deli', \n",
    "#               'location': 'Mission District, San Francisco',\n",
    "#               'limit': 50\n",
    "#              }\n",
    "# url = \"https://api.yelp.com/v3/businesses/search\"\n",
    "# headers = {\n",
    "#     'Authorization': 'Bearer %s' % tok,\n",
    "# # }\n",
    "# busn = req.get(url, headers=headers, params=url_params)"
   ]
  },
  {
   "cell_type": "code",
   "execution_count": 229,
   "metadata": {},
   "outputs": [],
   "source": [
    "# print(busn.json())\n",
    "# dels = busn.json()\n",
    "\n",
    "# for x in dels['businesses']:\n",
    "#     print(json.dumps(x['name'], sort_keys=True, indent=4))\n"
   ]
  },
  {
   "cell_type": "code",
   "execution_count": null,
   "metadata": {
    "collapsed": true
   },
   "outputs": [],
   "source": []
  },
  {
   "cell_type": "code",
   "execution_count": null,
   "metadata": {
    "collapsed": true
   },
   "outputs": [],
   "source": []
  },
  {
   "cell_type": "code",
   "execution_count": null,
   "metadata": {
    "collapsed": true
   },
   "outputs": [],
   "source": []
  },
  {
   "cell_type": "code",
   "execution_count": 230,
   "metadata": {},
   "outputs": [
    {
     "name": "stdout",
     "output_type": "stream",
     "text": [
      "{'Castro District': {'$$': 313, '$': 102, '$$$$': 11, '$$$': 47}, 'Chinatown': {'$': 102, '$$': 309, '$$$': 75, '$$$$': 11}, 'Ternderloin': {'$$': 296, '$': 133, '$$$': 45, '$$$$': 20}, 'Inner Richmond': {'$$': 326, '$': 112, '$$$': 44, '$$$$': 14}, 'Inner Sunset': {'$$': 233, '$': 147, '$$$': 10, '$$$$': 2}, 'Alamo Square': {'$': 69, '$$': 241, '$$$$': 21, '$$$': 35}, 'Russian Hill': {'$$': 301, '$': 126, '$$$$': 16, '$$$': 48}, 'Mission District': {'$': 109, '$$': 310, '$$$': 58, '$$$$': 18}, 'NorthBeach/Telegraph': {'$$': 219, '$': 113, '$$$$': 14, '$$$': 46}, 'SoMa': {'$$': 295, '$': 124, '$$$': 50, '$$$$': 22}}\n"
     ]
    }
   ],
   "source": [
    "Districts = [\"Castro District\", \"Chinatown\", \"Ternderloin\", \"Inner Richmond\", \"Inner Sunset\", \"Alamo Square\", \"Russian Hill\", \"Mission District\", \"NorthBeach/Telegraph\", \"SoMa\"]\n",
    "\n",
    "types = [\"Chinese\", \"Mexican\", \"French\", \"Japanese\", \"Mediterranean\", \"American\", \"Italian\", \"Korean\", \"Thai\", \"Indian\"]\n",
    "\n",
    "priceByType = {}\n",
    "priceByHood = {}\n",
    "\n",
    "for x in Districts:\n",
    "    districts = {}\n",
    "    for y in types:\n",
    "        \n",
    "        url_params = {\n",
    "            'term': y,\n",
    "            'location': x,\n",
    "            'limit': 50\n",
    "        }\n",
    "        \n",
    "        headers = {\n",
    "            'Authorization': 'Bearer %s' % tok\n",
    "        }\n",
    "        \n",
    "        call = req.get(url, headers=headers, params=url_params)\n",
    "        jcall = call.json()\n",
    "        for price in jcall['businesses']:\n",
    "            try:\n",
    "                money = price['price']\n",
    "                if money not in districts:\n",
    "                    districts[money]=1\n",
    "                else:\n",
    "                    districts[money]+=1\n",
    "            except:\n",
    "                continue\n",
    "    priceByHood[x] = districts\n",
    "\n",
    "print(priceByHood)"
   ]
  },
  {
   "cell_type": "code",
   "execution_count": 231,
   "metadata": {},
   "outputs": [
    {
     "ename": "SyntaxError",
     "evalue": "invalid syntax (<ipython-input-231-f4efdae66bb8>, line 20)",
     "output_type": "error",
     "traceback": [
      "\u001b[1;36m  File \u001b[1;32m\"<ipython-input-231-f4efdae66bb8>\"\u001b[1;36m, line \u001b[1;32m20\u001b[0m\n\u001b[1;33m    if money not in types:\u001b[0m\n\u001b[1;37m                         ^\u001b[0m\n\u001b[1;31mSyntaxError\u001b[0m\u001b[1;31m:\u001b[0m invalid syntax\n"
     ]
    }
   ],
   "source": [
    "for x in types:\n",
    "    types = {}\n",
    "    for y in Districts:\n",
    "        \n",
    "        url_params = {\n",
    "            'term': x,\n",
    "            'location': y,\n",
    "            'limit': 50\n",
    "        }\n",
    "        \n",
    "        headers = {\n",
    "            'Authorization': 'Bearer %s' % tok\n",
    "        }\n",
    "        \n",
    "        call = req.get(url, headers=headers, params=url_params)\n",
    "        jcall = call.json()\n",
    "        for price in jcall['businesses']:\n",
    "            try:\n",
    "                money = len(str(price['price']\n",
    "                if money not in types:\n",
    "                    types[money]=1\n",
    "                else:\n",
    "                    types[money]+=1\n",
    "            except:\n",
    "                continue\n",
    "    priceByType[x] = types\n",
    "\n",
    "print(priceByType)"
   ]
  },
  {
   "cell_type": "code",
   "execution_count": null,
   "metadata": {},
   "outputs": [],
   "source": []
  },
  {
   "cell_type": "code",
   "execution_count": null,
   "metadata": {
    "collapsed": true
   },
   "outputs": [],
   "source": []
  },
  {
   "cell_type": "code",
   "execution_count": null,
   "metadata": {
    "scrolled": true
   },
   "outputs": [],
   "source": [
    "priceByHoodDF=pd.DataFrame.from_records(priceByHood).reset_index().rename(columns={'index':'Hood'}).set_index('Hood').T\n",
    "priceByHoodDFIndex = priceByHoodDF.index.values\n",
    "priceByHoodDF2=priceByHoodDF.reset_index()\n",
    "priceByHoodDF2.columns = ['index','Cheap','Not Expensive','Expensive','Super Expensive']\n",
    "priceByHoodDF2\n",
    "# "
   ]
  },
  {
   "cell_type": "code",
   "execution_count": null,
   "metadata": {},
   "outputs": [],
   "source": [
    "# Setting the positions and width for the bars\n",
    "\n",
    "pos = list(range(len(priceByHoodDF2['Cheap'])))\n",
    "width = 0.20\n",
    "\n",
    "# Plotting the bars\n",
    "fig, ax = plt.subplots(figsize=(10,5))\n",
    "\n",
    "# fig=plt.figure(1,[15,6])\n",
    "# ax = fig.add_subplot(111)\n",
    "\n",
    "# Create a bar with pre_score data,\n",
    "# in position pos,\n",
    "plt.bar(pos,\n",
    "        #using df['pre_score'] data,\n",
    "        priceByHoodDF2['Cheap'],\n",
    "        # of width\n",
    "        width,\n",
    "        # with alpha 0.5\n",
    "        alpha=0.5,\n",
    "        # with color\n",
    "        color='#EE3224',\n",
    "        # with label the first value in first_name\n",
    "        label=priceByHoodDF2['index'][0])\n",
    "\n",
    "# Create a bar with mid_score data,\n",
    "# in position pos + some width buffer,\n",
    "plt.bar([p + width for p in pos],\n",
    "        #using df['mid_score'] data,\n",
    "        priceByHoodDF2['Not Expensive'],\n",
    "        # of width\n",
    "        width,\n",
    "        # with alpha 0.5\n",
    "        alpha=0.5,\n",
    "        # with color\n",
    "        color='#F78F1E',\n",
    "        # with label the second value in first_name\n",
    "        label=priceByHoodDF2['index'][1])\n",
    "\n",
    "# Create a bar with post_score data,\n",
    "# in position pos + some width buffer,\n",
    "plt.bar([p + width*2 for p in pos],\n",
    "        #using df['post_score'] data,\n",
    "        priceByHoodDF2['Expensive'],\n",
    "        # of width\n",
    "        width,\n",
    "        # with alpha 0.5\n",
    "        alpha=0.5,\n",
    "        # with color\n",
    "        color='#FFC222',\n",
    "        # with label the third value in first_name\n",
    "        label=priceByHoodDF2['index'][2])\n",
    "\n",
    "plt.bar([p + width*3 for p in pos],\n",
    "        #using df['post_score'] data,\n",
    "        priceByHoodDF2['Super Expensive'],\n",
    "        # of width\n",
    "        width,\n",
    "        # with alpha 0.5\n",
    "        alpha=0.5,\n",
    "        # with color\n",
    "        color='#cdaf95',\n",
    "        # with label the third value in first_name\n",
    "        label=priceByHoodDF2['index'][3])\n",
    "\n",
    "\n",
    "\n",
    "# Set the y axis label\n",
    "ax.set_ylabel('Price Popularity')\n",
    "\n",
    "# Set the chart's title\n",
    "ax.set_title('Expensiveness vs Neighbourhoods')\n",
    "\n",
    "# Set the position of the x ticks\n",
    "ax.set_xticks([p + 1.5 * width for p in pos])\n",
    "\n",
    "# Set the labels for the x ticks\n",
    "ax.set_xticklabels(priceByHoodDF2['index'])\n",
    "\n",
    "for label in ax.get_xticklabels():\n",
    "    label.set_rotation(45) \n",
    "\n",
    "\n",
    "\n",
    "\n",
    "# Setting the x-axis and y-axis limits\n",
    "plt.xlim(min(pos)-width, max(pos)+width*4)\n",
    "plt.ylim([0, max(priceByHoodDF2['Cheap'] + priceByHoodDF2['Not Expensive'] + priceByHoodDF2['Expensive'] + priceByHoodDF2['Super Expensive'])] )\n",
    "\n",
    "# Adding the legend and showing the plot\n",
    "plt.legend(['Cheap', 'Not Expensive', 'Expensive','Super Expensive'], loc='upper left')\n",
    "plt.grid()\n",
    "plt.show()"
   ]
  },
  {
   "cell_type": "code",
   "execution_count": null,
   "metadata": {},
   "outputs": [],
   "source": [
    "priceByTypeDF=pd.DataFrame.from_records(priceByType).reset_index().rename(columns={'index':'Type'}).set_index('Type').T.reset_index()\n",
    "priceByTypeDF.columns = ['Type','Cheap','Not Expensive','Expensive','Super Expensive']\n",
    "priceByTypeDF"
   ]
  },
  {
   "cell_type": "code",
   "execution_count": null,
   "metadata": {},
   "outputs": [],
   "source": [
    "# Setting the positions and width for the bars\n",
    "\n",
    "pos = list(range(len(priceByTypeDF['Cheap'])))\n",
    "width = 0.20\n",
    "\n",
    "# Plotting the bars\n",
    "fig, ax = plt.subplots(figsize=(10,5))\n",
    "\n",
    "# fig=plt.figure(1,[15,6])\n",
    "# ax = fig.add_subplot(111)\n",
    "\n",
    "# Create a bar with pre_score data,\n",
    "# in position pos,\n",
    "plt.bar(pos,\n",
    "        #using df['pre_score'] data,\n",
    "        priceByTypeDF['Cheap'],\n",
    "        # of width\n",
    "        width,\n",
    "        # with alpha 0.5\n",
    "        alpha=0.5,\n",
    "        # with color\n",
    "        color='#EE3224',\n",
    "        # with label the first value in first_name\n",
    "        label=priceByTypeDF['Type'][0])\n",
    "\n",
    "# Create a bar with mid_score data,\n",
    "# in position pos + some width buffer,\n",
    "plt.bar([p + width for p in pos],\n",
    "        #using df['mid_score'] data,\n",
    "        priceByTypeDF['Not Expensive'],\n",
    "        # of width\n",
    "        width,\n",
    "        # with alpha 0.5\n",
    "        alpha=0.5,\n",
    "        # with color\n",
    "        color='#F78F1E',\n",
    "        # with label the second value in first_name\n",
    "        label=priceByTypeDF['Type'][1])\n",
    "\n",
    "# Create a bar with post_score data,\n",
    "# in position pos + some width buffer,\n",
    "plt.bar([p + width*2 for p in pos],\n",
    "        #using df['post_score'] data,\n",
    "        priceByTypeDF['Expensive'],\n",
    "        # of width\n",
    "        width,\n",
    "        # with alpha 0.5\n",
    "        alpha=0.5,\n",
    "        # with color\n",
    "        color='#FFC222',\n",
    "        # with label the third value in first_name\n",
    "        label=priceByTypeDF['Type'][2])\n",
    "\n",
    "plt.bar([p + width*3 for p in pos],\n",
    "        #using df['post_score'] data,\n",
    "        priceByTypeDF['Super Expensive'],\n",
    "        # of width\n",
    "        width,\n",
    "        # with alpha 0.5\n",
    "        alpha=0.5,\n",
    "        # with color\n",
    "        color='#cdaf95',\n",
    "        # with label the third value in first_name\n",
    "        label=priceByTypeDF['Type'][3])\n",
    "\n",
    "\n",
    "\n",
    "# Set the y axis label\n",
    "ax.set_ylabel('Price Popularity')\n",
    "\n",
    "# Set the chart's title\n",
    "ax.set_title('Expensiveness vs Restaurant Types')\n",
    "\n",
    "# Set the position of the x ticks\n",
    "ax.set_xticks([p +1.5 * width for p in pos])\n",
    "\n",
    "# Set the labels for the x ticks\n",
    "ax.set_xticklabels(priceByTypeDF['Type'])\n",
    "\n",
    "for label in ax.get_xticklabels():\n",
    "    label.set_rotation(45) \n",
    "\n",
    "\n",
    "\n",
    "# Setting the x-axis and y-axis limits\n",
    "plt.xlim(min(pos)-width, max(pos)+width*4)\n",
    "plt.ylim([0, max(priceByTypeDF['Cheap'] + priceByTypeDF['Not Expensive'] + priceByTypeDF['Expensive'] + priceByTypeDF['Super Expensive'])] )\n",
    "\n",
    "# Adding the legend and showing the plot\n",
    "plt.legend(['Cheap', 'Not Expensive', 'Expensive','Super Expensive'], loc='upper left')\n",
    "plt.grid()\n",
    "plt.show()"
   ]
  },
  {
   "cell_type": "code",
   "execution_count": null,
   "metadata": {
    "collapsed": true
   },
   "outputs": [],
   "source": []
  }
 ],
 "metadata": {
  "kernelspec": {
   "display_name": "Python 3",
   "language": "python",
   "name": "python3"
  },
  "language_info": {
   "codemirror_mode": {
    "name": "ipython",
    "version": 3
   },
   "file_extension": ".py",
   "mimetype": "text/x-python",
   "name": "python",
   "nbconvert_exporter": "python",
   "pygments_lexer": "ipython3",
   "version": "3.6.1"
  }
 },
 "nbformat": 4,
 "nbformat_minor": 2
}
