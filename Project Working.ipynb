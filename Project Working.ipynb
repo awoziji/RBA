{
 "cells": [
  {
   "cell_type": "code",
   "execution_count": 48,
   "metadata": {},
   "outputs": [
    {
     "name": "stdout",
     "output_type": "stream",
     "text": [
      "{'Castro District': {'Chinese': 12, 'Mexican': 29, 'French': 12, 'Japanese': 16, 'Mediterranean': 4, 'American': 50, 'Italian': 30, 'Korean': 12, 'Thai': 12, 'Indian': 3}, 'Chinatown': {'Chinese': 50, 'Mexican': 50, 'French': 29, 'Japanese': 50, 'Mediterranean': 20, 'American': 50, 'Italian': 50, 'Korean': 38, 'Thai': 50, 'Indian': 15}, 'Tenderloin': {'Chinese': 50, 'Mexican': 50, 'French': 17, 'Japanese': 50, 'Mediterranean': 20, 'American': 50, 'Italian': 50, 'Korean': 34, 'Thai': 50, 'Indian': 35}, 'Inner Richmond': {'Chinese': 44, 'Mexican': 18, 'French': 4, 'Japanese': 36, 'Mediterranean': 2, 'American': 50, 'Italian': 25, 'Korean': 29, 'Thai': 32, 'Indian': 2}, 'Inner Sunset': {'Chinese': 16, 'Mexican': 14, 'French': 1, 'Japanese': 17, 'Mediterranean': 5, 'American': 28, 'Italian': 19, 'Korean': 9, 'Thai': 12, 'Indian': 7}, 'Alamo Square': {'Chinese': 15, 'Mexican': 29, 'French': 8, 'Japanese': 14, 'Mediterranean': 4, 'American': 50, 'Italian': 40, 'Korean': 16, 'Thai': 10, 'Indian': 6}, 'Russian Hill': {'Chinese': 17, 'Mexican': 50, 'French': 11, 'Japanese': 14, 'Mediterranean': 5, 'American': 50, 'Italian': 50, 'Korean': 10, 'Thai': 9, 'Indian': 4}, 'Mission': {'Chinese': 16, 'Mexican': 50, 'French': 17, 'Japanese': 21, 'Mediterranean': 10, 'American': 50, 'Italian': 50, 'Korean': 12, 'Thai': 15, 'Indian': 12}, 'NorthBeach/Telegraph': {'Chinese': 50, 'Mexican': 42, 'French': 16, 'Japanese': 41, 'Mediterranean': 5, 'American': 50, 'Italian': 50, 'Korean': 17, 'Thai': 43, 'Indian': 5}, 'SoMa': {'Chinese': 50, 'Mexican': 50, 'French': 25, 'Japanese': 44, 'Mediterranean': 16, 'American': 50, 'Italian': 50, 'Korean': 30, 'Thai': 47, 'Indian': 19}}\n",
      "{'Castro District': [3.71, 3.76, 4.04, 3.78, 3.62, 3.94, 3.62, 3.83, 3.83, 3.67], 'Chinatown': [3.97, 3.91, 4.12, 3.6, 3.75, 3.89, 3.9, 3.72, 3.67, 3.97], 'Tenderloin': [3.76, 3.7, 4.06, 3.87, 3.88, 3.99, 3.73, 3.71, 3.78, 3.56], 'Inner Richmond': [3.65, 3.64, 4.38, 3.74, 4.25, 3.94, 3.8, 3.67, 3.62, 4.0], 'Inner Sunset': [3.81, 3.61, 4.0, 3.76, 3.9, 3.59, 3.76, 3.89, 4.0, 3.71], 'Alamo Square': [3.43, 3.67, 4.0, 3.86, 3.12, 3.89, 3.8, 3.81, 3.45, 4.33], 'Russian Hill': [2.94, 3.62, 3.91, 3.79, 3.5, 3.9, 3.83, 3.75, 3.17, 2.88], 'Mission': [3.56, 3.98, 3.62, 3.79, 4.15, 4.13, 3.88, 3.5, 3.87, 4.17], 'NorthBeach/Telegraph': [3.6, 3.58, 3.97, 3.51, 3.2, 4.04, 3.94, 3.85, 3.38, 3.9], 'SoMa': [3.36, 3.3, 3.96, 3.53, 3.72, 3.83, 3.61, 3.6, 3.48, 3.68]}\n",
      "{'Castro District': [5517, 12079, 5924, 7047, 1375, 24583, 16358, 5345, 5388, 1481], 'Chinatown': [27812, 18750, 9842, 15239, 5195, 19211, 20454, 14628, 19195, 4185], 'Tenderloin': [20253, 37677, 15345, 19697, 7634, 37266, 20504, 18628, 28701, 16936], 'Inner Richmond': [14295, 9362, 5206, 17628, 592, 23268, 10317, 15844, 18590, 864], 'Inner Sunset': [10673, 6023, 1252, 11930, 3124, 18300, 9883, 10534, 10499, 3390], 'Alamo Square': [3105, 18927, 6722, 5574, 997, 32107, 28075, 5583, 2292, 1534], 'Russian Hill': [3411, 41445, 8957, 5352, 1403, 30659, 30505, 3669, 2398, 1534], 'Mission': [7525, 27052, 3507, 17615, 7046, 33510, 31522, 5297, 11578, 8041], 'NorthBeach/Telegraph': [24140, 34603, 7113, 24469, 4857, 40969, 39742, 10789, 20734, 1655], 'SoMa': [29391, 27213, 9958, 26937, 4133, 36418, 20500, 18692, 29824, 10933]}\n"
     ]
    }
   ],
   "source": [
    "import requests as req\n",
    "\n",
    "#!pip install oauthlib\n",
    "\n",
    "#!pip install requests_oauthlib\n",
    "\n",
    "#from oauthlib.oauth2 import MobileApplicationClient\n",
    "\n",
    "from requests_oauthlib import OAuth2Session\n",
    "\n",
    "from oauthlib.oauth2 import BackendApplicationClient\n",
    "\n",
    "import json\n",
    "\n",
    "import pandas as pd\n",
    "\n",
    "import numpy as np\n",
    "\n",
    "districts = [\n",
    "                \"Castro District\", \"Chinatown\", \"Tenderloin\", \"Inner Richmond\", \n",
    "                \"Inner Sunset\", \"Alamo Square\", \"Russian Hill\", \"Mission\", \n",
    "                \"NorthBeach/Telegraph\", \"SoMa\"\n",
    "            ]\n",
    "types = [\n",
    "                \"Chinese\", \"Mexican\", \"French\", \"Japanese\", \"Mediterranean\", \n",
    "                \"American\", \"Italian\", \"Korean\", \"Thai\", \"Indian\"\n",
    "            ]\n",
    "\n",
    "\n",
    "client_id = '4uTbw25Hz64FoLUR1M_A7g'\n",
    "client_secret = 'chHd4QfTsB3iwuGfFmnHH1KAaAL6NEnH9kr12HEPx5gQwbS1vwB0o5QTRMq87X6D'\n",
    "\n",
    "client = BackendApplicationClient(client_id=client_id)\n",
    "oauth = OAuth2Session(client=client)\n",
    "token = oauth.fetch_token(token_url='https://api.yelp.com/oauth2/token', client_id=client_id,\n",
    "        client_secret=client_secret)\n",
    "\t\t\n",
    "#print(token['access_token'])\n",
    "\n",
    "tok = token['access_token']\n",
    "\n",
    "url = \"https://api.yelp.com/v3/businesses/search\"\n",
    "\n",
    "headers = {\n",
    "    'Authorization': 'Bearer %s' % tok,\n",
    "}\n",
    "\n",
    "\n",
    "typeSum = {}\n",
    "Ratings = {}\n",
    "countReviews = {}\n",
    "\n",
    "\n",
    "\n",
    "\n",
    "for x in districts:\n",
    "    typeCount = {}\n",
    "    typeRating = {}\n",
    "    typeReview = {}\n",
    "    for y in types:\n",
    "        \n",
    "        url_params = {\n",
    "            'term': y,\n",
    "            'location': x,\n",
    "            'limit': 50,\n",
    "            'radius': 750\n",
    "            \n",
    "        }\n",
    "        \n",
    "        headers = {\n",
    "            'Authorization': 'Bearer %s' % tok\n",
    "        }\n",
    "        \n",
    "        reviewcall = req.get(url, headers=headers, params=url_params)\n",
    "        \n",
    "        try:\n",
    "            reviews = reviewcall.json()\n",
    "        except:\n",
    "            print(reviewcall.json())\n",
    "        \n",
    "        \n",
    "        \n",
    "        for rev in reviews['businesses']:\n",
    "            try:\n",
    "                if y not in typeCount:\n",
    "                    typeRating[y] = rev[\"rating\"]\n",
    "                    typeCount[y] = 1\n",
    "                    typeReview[y] = rev[\"review_count\"]\n",
    "                    \n",
    "                else:\n",
    "                    typeRating[y] += rev[\"rating\"]\n",
    "                    typeCount[y] += 1\n",
    "                    typeReview[y] += rev[\"review_count\"]\n",
    "            except:\n",
    "                continue\n",
    "        \n",
    "        \n",
    "\n",
    "\n",
    "    typeSum[x] = typeCount\n",
    "    \n",
    "    ratingType = [round((typeRating[rest]/typeCount[rest]),2) for rest in typeRating]\n",
    "    #print(ratingType)\n",
    "    Ratings[x]=ratingType\n",
    "    \n",
    "    ReviewCount = [value for rest, value in typeReview.items()]\n",
    "    countReviews[x] = ReviewCount\n",
    "\n",
    "print(typeSum)\n",
    "print(Ratings)\n",
    "print(countReviews)\n"
   ]
  },
  {
   "cell_type": "code",
   "execution_count": 50,
   "metadata": {},
   "outputs": [
    {
     "name": "stdout",
     "output_type": "stream",
     "text": [
      "[12, 29, 12, 16, 4, 50, 30, 12, 12, 3]\n",
      "[3.71, 3.76, 4.04, 3.78, 3.62, 3.94, 3.62, 3.83, 3.83, 3.67]\n",
      "[20253, 37677, 15345, 19697, 7634, 37266, 20504, 18628, 28701, 16936]\n"
     ]
    }
   ],
   "source": [
    "castroDistrictTypes = [value for rest, value in typeSum[\"Castro District\"].items()]\n",
    "chinaTownTypes = [value for rest, value in typeSum[\"Chinatown\"].items()]\n",
    "tenderLoinTypes = [value for rest, value in typeSum[\"Tenderloin\"].items()]\n",
    "innerRichmondTypes = [value for rest, value in typeSum[\"Inner Richmond\"].items()]\n",
    "innerSunsetTypes = [value for rest, value in typeSum[\"Inner Sunset\"].items()]\n",
    "alamoSquareTypes = [value for rest, value in typeSum[\"Alamo Square\"].items()]\n",
    "russianHillTypes = [value for rest, value in typeSum[\"Russian Hill\"].items()]\n",
    "missionTypes = [value for rest, value in typeSum[\"Mission\"].items()]\n",
    "northBeachTypes = [value for rest, value in typeSum[\"NorthBeach/Telegraph\"].items()]\n",
    "soMaTypes = [value for rest, value in typeSum[\"SoMa\"].items()]\n",
    "\n",
    "castroDistrictRates = Ratings[\"Castro District\"]\n",
    "chinaTownRates = Ratings[\"Chinatown\"]\n",
    "tenderLoinRates = Ratings[\"Tenderloin\"]\n",
    "innerRichmondRates = Ratings[\"Inner Richmond\"]\n",
    "innerSunsetRates = Ratings[\"Inner Sunset\"]\n",
    "alamoSquareRates = Ratings[\"Alamo Square\"]\n",
    "russianHillRates = Ratings[\"Russian Hill\"]\n",
    "missionRates = Ratings[\"Mission\"]\n",
    "northBeachRates = Ratings[\"NorthBeach/Telegraph\"]\n",
    "soMaRates = Ratings[\"SoMa\"]\n",
    "\n",
    "castroDistrictCounts = countReviews[\"Castro District\"]\n",
    "chinaTownCounts = countReviews[\"Chinatown\"]\n",
    "tenderLoinCounts = countReviews[\"Tenderloin\"]\n",
    "innerRichmondCounts = countReviews[\"Inner Richmond\"]\n",
    "innerSunsetCounts = countReviews[\"Inner Sunset\"]\n",
    "alamoSquareCounts = countReviews[\"Alamo Square\"]\n",
    "russianHillCounts = countReviews[\"Russian Hill\"]\n",
    "missionCounts = countReviews[\"Mission\"]\n",
    "northBeachCounts = countReviews[\"NorthBeach/Telegraph\"]\n",
    "soMaCounts = countReviews[\"SoMa\"]\n",
    "\n",
    "\n",
    "\n",
    "\n",
    "print(castroDistrict)\n",
    "print(castroDistrictRates)\n",
    "print(tenderLoinCounts)\n",
    "#print(innerRichmond)\n",
    "#print(innerSunset)\n",
    "#print(alamoSquare)\n",
    "#print(russianHill)\n",
    "#print(mission)\n",
    "#print(northBeach)\n",
    "#print(soMa)\n"
   ]
  },
  {
   "cell_type": "code",
   "execution_count": 98,
   "metadata": {},
   "outputs": [
    {
     "data": {
      "image/png": "[encoded data removed]",
      "text/plain": [
       "<matplotlib.figure.Figure at 0x112cf7c18>"
      ]
     },
     "metadata": {},
     "output_type": "display_data"
    }
   ],
   "source": [
    "import matplotlib.pyplot as plt\n",
    "import matplotlib.patches as patches\n",
    "import seaborn\n",
    "colors = [\"orange\", \"blue\", \"purple\", \"red\", \"yellow\", \"white\", \"coral\",\n",
    "          \"lightgray\", \"darkcyan\", \"cornsilk\"]\n",
    "\n",
    "orange_dot = patches.Patch(color=\"orange\", label =\"Chinese\")\n",
    "blue_dot = patches.Patch(color=\"blue\", label = \"Mexican\")\n",
    "purple_dot = patches.Patch(color = \"purple\", label = \"French\")\n",
    "red_dot = patches.Patch(color = \"red\", label = \"Japanese\")\n",
    "yellow_dot = patches.Patch(color = \"yellow\", label = \"Mediterranean\")\n",
    "white_dot = patches.Patch(color = \"white\", label = \"American\")\n",
    "coral_dot = patches.Patch(color = \"coral\", label = \"Italian\")\n",
    "lightgray_dot = patches.Patch(color = \"lightgray\", label = \"Korean\")\n",
    "darkcyan_dot = patches.Patch(color = \"darkcyan\", label = \"Thai\")\n",
    "cornsilk_dot = patches.Patch(color = \"cornsilk\", label = \"Indian\")\n",
    "\n",
    "plt.scatter(range(len(types)), \n",
    "            castroDistrictRates, \n",
    "            s=[0.1*x for x in castroDistrictCounts],\n",
    "            color = colors)\n",
    "\n",
    "\n",
    "plt.title(\"Castro District Restaurant Types and Ratings, Amount of Reviews by Size\")\n",
    "\n",
    "plt.legend(handles = [orange_dot, blue_dot, purple_dot, red_dot, yellow_dot,\n",
    "                     white_dot, coral_dot, lightgray_dot, darkcyan_dot, cornsilk_dot\n",
    "                     ], title = \"Restaurant Types\", loc=\"upper right\")\n",
    "\n",
    "plt.show()"
   ]
  },
  {
   "cell_type": "code",
   "execution_count": 97,
   "metadata": {},
   "outputs": [
    {
     "data": {
      "image/png": "[encoded data removed]",
      "text/plain": [
       "<matplotlib.figure.Figure at 0x112cf7be0>"
      ]
     },
     "metadata": {},
     "output_type": "display_data"
    }
   ],
   "source": [
    "import matplotlib.pyplot as plt\n",
    "import matplotlib.patches as patches\n",
    "import seaborn\n",
    "colors = [\"orange\", \"blue\", \"purple\", \"red\", \"yellow\", \"white\", \"coral\",\n",
    "          \"lightgray\", \"darkcyan\", \"cornsilk\"]\n",
    "\n",
    "orange_dot = patches.Patch(color=\"orange\", label =\"Chinese\")\n",
    "blue_dot = patches.Patch(color=\"blue\", label = \"Mexican\")\n",
    "purple_dot = patches.Patch(color = \"purple\", label = \"French\")\n",
    "red_dot = patches.Patch(color = \"red\", label = \"Japanese\")\n",
    "yellow_dot = patches.Patch(color = \"yellow\", label = \"Mediterranean\")\n",
    "white_dot = patches.Patch(color = \"white\", label = \"American\")\n",
    "coral_dot = patches.Patch(color = \"coral\", label = \"Italian\")\n",
    "lightgray_dot = patches.Patch(color = \"lightgray\", label = \"Korean\")\n",
    "darkcyan_dot = patches.Patch(color = \"darkcyan\", label = \"Thai\")\n",
    "cornsilk_dot = patches.Patch(color = \"cornsilk\", label = \"Indian\")\n",
    "\n",
    "plt.scatter(range(len(types)), \n",
    "            chinaTownRates, \n",
    "            s=[0.1*x for x in chinaTownCounts],\n",
    "            color = colors)\n",
    "\n",
    "\n",
    "plt.title(\"Chinatown Restaurant Types and Ratings, Amount of Reviews by Size\")\n",
    "\n",
    "plt.legend(handles = [orange_dot, blue_dot, purple_dot, red_dot, yellow_dot,\n",
    "                     white_dot, coral_dot, lightgray_dot, darkcyan_dot, cornsilk_dot\n",
    "                     ], title = \"Restaurant Types\", loc=\"upper right\")\n",
    "\n",
    "plt.show()"
   ]
  },
  {
   "cell_type": "code",
   "execution_count": null,
   "metadata": {
    "collapsed": true
   },
   "outputs": [],
   "source": []
  },
  {
   "cell_type": "code",
   "execution_count": null,
   "metadata": {
    "collapsed": true
   },
   "outputs": [],
   "source": []
  },
  {
   "cell_type": "code",
   "execution_count": null,
   "metadata": {
    "collapsed": true
   },
   "outputs": [],
   "source": []
  },
  {
   "cell_type": "code",
   "execution_count": null,
   "metadata": {
    "collapsed": true
   },
   "outputs": [],
   "source": []
  },
  {
   "cell_type": "code",
   "execution_count": null,
   "metadata": {
    "collapsed": true
   },
   "outputs": [],
   "source": []
  },
  {
   "cell_type": "code",
   "execution_count": null,
   "metadata": {
    "collapsed": true
   },
   "outputs": [],
   "source": []
  },
  {
   "cell_type": "code",
   "execution_count": null,
   "metadata": {
    "collapsed": true
   },
   "outputs": [],
   "source": []
  },
  {
   "cell_type": "code",
   "execution_count": null,
   "metadata": {
    "collapsed": true
   },
   "outputs": [],
   "source": []
  },
  {
   "cell_type": "code",
   "execution_count": null,
   "metadata": {
    "collapsed": true
   },
   "outputs": [],
   "source": []
  },
  {
   "cell_type": "code",
   "execution_count": null,
   "metadata": {
    "collapsed": true
   },
   "outputs": [],
   "source": [
    "import matplotlib.pyplot as plt\n",
    "import matplotlib.patches as patches\n",
    "import seaborn\n",
    "colors = [\"orange\", \"blue\", \"purple\", \"red\", \"yellow\", \"white\", \"coral\",\n",
    "          \"lightgray\", \"darkcyan\", \"cornsilk\"]\n",
    "\n",
    "orange_dot = patches.Patch(color=\"orange\", label =\"Chinese\")\n",
    "blue_dot = patches.Patch(color=\"blue\", label = \"Mexican\")\n",
    "purple_dot = patches.Patch(color = \"purple\", label = \"French\")\n",
    "red_dot = patches.Patch(color = \"red\", label = \"Japanese\")\n",
    "yellow_dot = patches.Patch(color = \"yellow\", label = \"Mediterranean\")\n",
    "white_dot = patches.Patch(color = \"white\", label = \"American\")\n",
    "coral_dot = patches.Patch(color = \"coral\", label = \"Italian\")\n",
    "lightgray_dot = patches.Patch(color = \"lightgray\", label = \"Korean\")\n",
    "darkcyan_dot = patches.Patch(color = \"darkcyan\", label = \"Thai\")\n",
    "cornsilk_dot = patches.Patch(color = \"cornsilk\", label = \"Indian\")\n",
    "\n",
    "\n",
    "\n",
    "plt.scatter(range(len(types)), \n",
    "            castroDistrictRates, \n",
    "            s=[50*x for x in castroDistrictTypes],\n",
    "            color = colors)\n",
    "\n",
    "\n",
    "plt.title(\"Castro District Restaurant Types and Ratings, Amount of Reviews by Size\")\n",
    "\n",
    "plt.legend(handles = [orange_dot, blue_dot, purple_dot, red_dot, yellow_dot,\n",
    "                     white_dot, coral_dot, lightgray_dot, darkcyan_dot, cornsilk_dot\n",
    "                     ], title = \"Restaurant Types\", loc=\"upper right\")\n",
    "\n",
    "plt.show()"
   ]
  }
 ],
 "metadata": {
  "kernelspec": {
   "display_name": "Python 3",
   "language": "python",
   "name": "python3"
  },
  "language_info": {
   "codemirror_mode": {
    "name": "ipython",
    "version": 3
   },
   "file_extension": ".py",
   "mimetype": "text/x-python",
   "name": "python",
   "nbconvert_exporter": "python",
   "pygments_lexer": "ipython3",
   "version": "3.6.1"
  }
 },
 "nbformat": 4,
 "nbformat_minor": 2
}
